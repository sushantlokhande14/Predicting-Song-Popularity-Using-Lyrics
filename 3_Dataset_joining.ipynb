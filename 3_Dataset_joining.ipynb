{
 "cells": [
  {
   "cell_type": "code",
   "execution_count": 1,
   "metadata": {},
   "outputs": [],
   "source": [
    "import sys\n",
    "import os\n",
    "import numpy as np\n",
    "import pandas as pd\n",
    "import seaborn as sns\n",
    "import matplotlib.pyplot as plt"
   ]
  },
  {
   "cell_type": "code",
   "execution_count": 2,
   "metadata": {},
   "outputs": [],
   "source": [
    "genius_database = pd.read_csv('song_lyrics.csv')"
   ]
  },
  {
   "cell_type": "code",
   "execution_count": 3,
   "metadata": {},
   "outputs": [],
   "source": [
    "spotify_database = pd.read_csv('spotify_data.csv')"
   ]
  },
  {
   "cell_type": "code",
   "execution_count": 5,
   "metadata": {},
   "outputs": [
    {
     "data": {
      "text/plain": [
       "Index(['title', 'tag', 'artist', 'year', 'views', 'features', 'lyrics', 'id',\n",
       "       'language_cld3', 'language_ft', 'language'],\n",
       "      dtype='object')"
      ]
     },
     "execution_count": 5,
     "metadata": {},
     "output_type": "execute_result"
    }
   ],
   "source": [
    "genius_database.columns"
   ]
  },
  {
   "cell_type": "code",
   "execution_count": 6,
   "metadata": {},
   "outputs": [
    {
     "data": {
      "text/plain": [
       "Index(['Unnamed: 0', 'artist_name', 'track_name', 'track_id', 'popularity',\n",
       "       'year', 'genre', 'danceability', 'energy', 'key', 'loudness', 'mode',\n",
       "       'speechiness', 'acousticness', 'instrumentalness', 'liveness',\n",
       "       'valence', 'tempo', 'duration_ms', 'time_signature'],\n",
       "      dtype='object')"
      ]
     },
     "execution_count": 6,
     "metadata": {},
     "output_type": "execute_result"
    }
   ],
   "source": [
    "spotify_database.columns"
   ]
  },
  {
   "cell_type": "code",
   "execution_count": 7,
   "metadata": {},
   "outputs": [
    {
     "name": "stdout",
     "output_type": "stream",
     "text": [
      "5134856\n",
      "1159764\n"
     ]
    }
   ],
   "source": [
    "print(len(genius_database))\n",
    "print(len(spotify_database))"
   ]
  },
  {
   "cell_type": "code",
   "execution_count": 9,
   "metadata": {},
   "outputs": [
    {
     "name": "stdout",
     "output_type": "stream",
     "text": [
      "Merged dataset shape: (288417, 29)\n"
     ]
    },
    {
     "data": {
      "text/html": [
       "<div>\n",
       "<style scoped>\n",
       "    .dataframe tbody tr th:only-of-type {\n",
       "        vertical-align: middle;\n",
       "    }\n",
       "\n",
       "    .dataframe tbody tr th {\n",
       "        vertical-align: top;\n",
       "    }\n",
       "\n",
       "    .dataframe thead th {\n",
       "        text-align: right;\n",
       "    }\n",
       "</style>\n",
       "<table border=\"1\" class=\"dataframe\">\n",
       "  <thead>\n",
       "    <tr style=\"text-align: right;\">\n",
       "      <th></th>\n",
       "      <th>track_name</th>\n",
       "      <th>tag</th>\n",
       "      <th>artist_name</th>\n",
       "      <th>year_x</th>\n",
       "      <th>views</th>\n",
       "      <th>features</th>\n",
       "      <th>lyrics</th>\n",
       "      <th>id</th>\n",
       "      <th>language_cld3</th>\n",
       "      <th>language_ft</th>\n",
       "      <th>...</th>\n",
       "      <th>loudness</th>\n",
       "      <th>mode</th>\n",
       "      <th>speechiness</th>\n",
       "      <th>acousticness</th>\n",
       "      <th>instrumentalness</th>\n",
       "      <th>liveness</th>\n",
       "      <th>valence</th>\n",
       "      <th>tempo</th>\n",
       "      <th>duration_ms</th>\n",
       "      <th>time_signature</th>\n",
       "    </tr>\n",
       "  </thead>\n",
       "  <tbody>\n",
       "    <tr>\n",
       "      <th>0</th>\n",
       "      <td>forgive me father</td>\n",
       "      <td>rap</td>\n",
       "      <td>fabolous</td>\n",
       "      <td>2003</td>\n",
       "      <td>4743</td>\n",
       "      <td>{}</td>\n",
       "      <td>Maybe cause I'm eatin\\nAnd these bastards fien...</td>\n",
       "      <td>4</td>\n",
       "      <td>en</td>\n",
       "      <td>en</td>\n",
       "      <td>...</td>\n",
       "      <td>-5.679</td>\n",
       "      <td>1</td>\n",
       "      <td>0.121</td>\n",
       "      <td>0.1520</td>\n",
       "      <td>0.000000</td>\n",
       "      <td>0.107</td>\n",
       "      <td>0.307</td>\n",
       "      <td>95.987</td>\n",
       "      <td>259973</td>\n",
       "      <td>4</td>\n",
       "    </tr>\n",
       "    <tr>\n",
       "      <th>1</th>\n",
       "      <td>fly in</td>\n",
       "      <td>rap</td>\n",
       "      <td>lil wayne</td>\n",
       "      <td>2005</td>\n",
       "      <td>78271</td>\n",
       "      <td>{}</td>\n",
       "      <td>[Intro]\\nSo they ask me\\n\"Young boy\\nWhat you ...</td>\n",
       "      <td>6</td>\n",
       "      <td>en</td>\n",
       "      <td>en</td>\n",
       "      <td>...</td>\n",
       "      <td>-5.868</td>\n",
       "      <td>1</td>\n",
       "      <td>0.322</td>\n",
       "      <td>0.0647</td>\n",
       "      <td>0.000001</td>\n",
       "      <td>0.123</td>\n",
       "      <td>0.496</td>\n",
       "      <td>180.992</td>\n",
       "      <td>143147</td>\n",
       "      <td>4</td>\n",
       "    </tr>\n",
       "    <tr>\n",
       "      <th>2</th>\n",
       "      <td>money on my mind</td>\n",
       "      <td>rap</td>\n",
       "      <td>lil wayne</td>\n",
       "      <td>2005</td>\n",
       "      <td>128927</td>\n",
       "      <td>{}</td>\n",
       "      <td>[Intro]\\nYeah\\nMoney on my mind, money on my m...</td>\n",
       "      <td>12</td>\n",
       "      <td>en</td>\n",
       "      <td>en</td>\n",
       "      <td>...</td>\n",
       "      <td>-6.503</td>\n",
       "      <td>0</td>\n",
       "      <td>0.370</td>\n",
       "      <td>0.0127</td>\n",
       "      <td>0.000000</td>\n",
       "      <td>0.110</td>\n",
       "      <td>0.661</td>\n",
       "      <td>152.173</td>\n",
       "      <td>271573</td>\n",
       "      <td>4</td>\n",
       "    </tr>\n",
       "    <tr>\n",
       "      <th>3</th>\n",
       "      <td>december 4th</td>\n",
       "      <td>rap</td>\n",
       "      <td>jay-z</td>\n",
       "      <td>2003</td>\n",
       "      <td>283714</td>\n",
       "      <td>{}</td>\n",
       "      <td>[Produced by Just Blaze]\\n\\n[Intro: Gloria Car...</td>\n",
       "      <td>15</td>\n",
       "      <td>en</td>\n",
       "      <td>en</td>\n",
       "      <td>...</td>\n",
       "      <td>-3.374</td>\n",
       "      <td>1</td>\n",
       "      <td>0.237</td>\n",
       "      <td>0.0279</td>\n",
       "      <td>0.000000</td>\n",
       "      <td>0.380</td>\n",
       "      <td>0.495</td>\n",
       "      <td>89.256</td>\n",
       "      <td>272360</td>\n",
       "      <td>4</td>\n",
       "    </tr>\n",
       "    <tr>\n",
       "      <th>4</th>\n",
       "      <td>98 freestyle</td>\n",
       "      <td>rap</td>\n",
       "      <td>big l</td>\n",
       "      <td>2000</td>\n",
       "      <td>297788</td>\n",
       "      <td>{}</td>\n",
       "      <td>[Verse 1]\\nYo, fuck all the glamours and glitz...</td>\n",
       "      <td>16</td>\n",
       "      <td>en</td>\n",
       "      <td>en</td>\n",
       "      <td>...</td>\n",
       "      <td>-12.100</td>\n",
       "      <td>0</td>\n",
       "      <td>0.753</td>\n",
       "      <td>0.4390</td>\n",
       "      <td>0.000000</td>\n",
       "      <td>0.327</td>\n",
       "      <td>0.907</td>\n",
       "      <td>175.763</td>\n",
       "      <td>129693</td>\n",
       "      <td>4</td>\n",
       "    </tr>\n",
       "  </tbody>\n",
       "</table>\n",
       "<p>5 rows × 29 columns</p>\n",
       "</div>"
      ],
      "text/plain": [
       "          track_name  tag artist_name  year_x   views features  \\\n",
       "0  forgive me father  rap    fabolous    2003    4743       {}   \n",
       "1             fly in  rap   lil wayne    2005   78271       {}   \n",
       "2   money on my mind  rap   lil wayne    2005  128927       {}   \n",
       "3       december 4th  rap       jay-z    2003  283714       {}   \n",
       "4       98 freestyle  rap       big l    2000  297788       {}   \n",
       "\n",
       "                                              lyrics  id language_cld3  \\\n",
       "0  Maybe cause I'm eatin\\nAnd these bastards fien...   4            en   \n",
       "1  [Intro]\\nSo they ask me\\n\"Young boy\\nWhat you ...   6            en   \n",
       "2  [Intro]\\nYeah\\nMoney on my mind, money on my m...  12            en   \n",
       "3  [Produced by Just Blaze]\\n\\n[Intro: Gloria Car...  15            en   \n",
       "4  [Verse 1]\\nYo, fuck all the glamours and glitz...  16            en   \n",
       "\n",
       "  language_ft  ... loudness  mode speechiness  acousticness  instrumentalness  \\\n",
       "0          en  ...   -5.679     1       0.121        0.1520          0.000000   \n",
       "1          en  ...   -5.868     1       0.322        0.0647          0.000001   \n",
       "2          en  ...   -6.503     0       0.370        0.0127          0.000000   \n",
       "3          en  ...   -3.374     1       0.237        0.0279          0.000000   \n",
       "4          en  ...  -12.100     0       0.753        0.4390          0.000000   \n",
       "\n",
       "  liveness  valence    tempo  duration_ms  time_signature  \n",
       "0    0.107    0.307   95.987       259973               4  \n",
       "1    0.123    0.496  180.992       143147               4  \n",
       "2    0.110    0.661  152.173       271573               4  \n",
       "3    0.380    0.495   89.256       272360               4  \n",
       "4    0.327    0.907  175.763       129693               4  \n",
       "\n",
       "[5 rows x 29 columns]"
      ]
     },
     "execution_count": 9,
     "metadata": {},
     "output_type": "execute_result"
    }
   ],
   "source": [
    "import pandas as pd\n",
    "\n",
    "# Standardize column names for joining\n",
    "genius_database = genius_database.rename(columns={'artist': 'artist_name', 'title': 'track_name'})\n",
    "spotify_database = spotify_database.rename(columns={'track_name': 'track_name', 'artist_name': 'artist_name'})\n",
    "\n",
    "# Standardize string formatting for joining columns\n",
    "genius_database['artist_name'] = genius_database['artist_name'].str.strip().str.lower()\n",
    "genius_database['track_name'] = genius_database['track_name'].str.strip().str.lower()\n",
    "spotify_database['artist_name'] = spotify_database['artist_name'].str.strip().str.lower()\n",
    "spotify_database['track_name'] = spotify_database['track_name'].str.strip().str.lower()\n",
    "\n",
    "# Merge datasets on artist_name and track_name\n",
    "merged_database = pd.merge(\n",
    "    genius_database, \n",
    "    spotify_database, \n",
    "    on=['artist_name', 'track_name'], \n",
    "    how='inner'\n",
    ")\n",
    "\n",
    "# Display the shape of the merged dataset\n",
    "print(f\"Merged dataset shape: {merged_database.shape}\")\n",
    "\n",
    "# Show the first few rows of the merged dataset\n",
    "merged_database.head()\n"
   ]
  },
  {
   "cell_type": "code",
   "execution_count": 10,
   "metadata": {},
   "outputs": [
    {
     "data": {
      "text/plain": [
       "288417"
      ]
     },
     "execution_count": 10,
     "metadata": {},
     "output_type": "execute_result"
    }
   ],
   "source": [
    "len(merged_database)"
   ]
  },
  {
   "cell_type": "code",
   "execution_count": 11,
   "metadata": {},
   "outputs": [],
   "source": [
    "merged_database.to_csv(\"1mergeddatabase\",index=False)"
   ]
  }
 ],
 "metadata": {
  "kernelspec": {
   "display_name": "Python 3",
   "language": "python",
   "name": "python3"
  },
  "language_info": {
   "codemirror_mode": {
    "name": "ipython",
    "version": 3
   },
   "file_extension": ".py",
   "mimetype": "text/x-python",
   "name": "python",
   "nbconvert_exporter": "python",
   "pygments_lexer": "ipython3",
   "version": "3.13.0"
  }
 },
 "nbformat": 4,
 "nbformat_minor": 2
}
