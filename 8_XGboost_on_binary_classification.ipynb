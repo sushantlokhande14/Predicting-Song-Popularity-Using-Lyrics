{
 "cells": [
  {
   "cell_type": "code",
   "execution_count": 4,
   "id": "61db7a52-be98-4b11-81ef-066f0010ba73",
   "metadata": {},
   "outputs": [],
   "source": [
    "import pandas as pd\n",
    "import numpy as np "
   ]
  },
  {
   "cell_type": "code",
   "execution_count": 6,
   "id": "aaf0727d-da64-44b0-a9cb-40e30a418295",
   "metadata": {},
   "outputs": [],
   "source": [
    "data = pd.read_csv('Master_DB.csv')"
   ]
  },
  {
   "cell_type": "code",
   "execution_count": 8,
   "id": "1006dbcf-7dd8-4b36-aa3b-cc1e9e13505e",
   "metadata": {},
   "outputs": [],
   "source": [
    "data = data.drop(columns=['year_x', 'id', 'track_id', 'features'])"
   ]
  },
  {
   "cell_type": "code",
   "execution_count": 10,
   "id": "f4ccb22d-13d7-45f2-9f73-eca37c6630ba",
   "metadata": {},
   "outputs": [
    {
     "name": "stdout",
     "output_type": "stream",
     "text": [
      "popularity_class\n",
      "0    70819\n",
      "1    68614\n",
      "Name: count, dtype: int64\n"
     ]
    }
   ],
   "source": [
    "import numpy as np\n",
    "\n",
    "# Calculate the percentile thresholds\n",
    "low_threshold = np.percentile(data['popularity'], 50)\n",
    "high_threshold = np.percentile(data['popularity'], 50)\n",
    "\n",
    "# Create the 'popularity_class' column based on conditions\n",
    "data['popularity_class'] = np.select(\n",
    "    [\n",
    "        data['popularity'] <= low_threshold,              # Low popularity (0)\n",
    "        (data['popularity'] > low_threshold) & (data['popularity'] <= high_threshold),  # Neutral (1)\n",
    "        data['popularity'] > high_threshold               # High popularity (2)\n",
    "    ],\n",
    "    [0, 1, 1]  # Assign corresponding class values\n",
    ")\n",
    "\n",
    "# Check the distribution of the new column\n",
    "print(data['popularity_class'].value_counts())"
   ]
  },
  {
   "cell_type": "code",
   "execution_count": 12,
   "id": "f61f3a93-0563-4ed6-a7ce-163d874f85cc",
   "metadata": {},
   "outputs": [],
   "source": [
    "\n",
    "from sklearn.preprocessing import LabelEncoder\n",
    "\n",
    "# Initialize the LabelEncoder\n",
    "label_encoder = LabelEncoder()\n",
    "\n",
    "# Fit and transform the 'artist_name' column\n",
    "data['artist_encoded'] = label_encoder.fit_transform(data['artist_name'])"
   ]
  },
  {
   "cell_type": "code",
   "execution_count": 14,
   "id": "c4a2536e-4d4f-4aa5-a7b6-873d5460c13b",
   "metadata": {},
   "outputs": [],
   "source": [
    "label_encoder_genre = LabelEncoder()\n",
    "\n",
    "# Fit and transform the 'genre' column\n",
    "data['genre_encoded'] = label_encoder_genre.fit_transform(data['genre'])"
   ]
  },
  {
   "cell_type": "code",
   "execution_count": 16,
   "id": "9694522f-d6fc-4c5b-b541-98a7afb45030",
   "metadata": {},
   "outputs": [],
   "source": [
    "selected_features = [\n",
    "    'lyric_page_counter', 'sentiment', 'word_count', 'num_parts', 'year_y',\n",
    "    'artist_encoded', 'genre_encoded', \n",
    "    'positive_sentiment', 'negative_sentiment', 'neutral_sentiment'\n",
    "]\n",
    "\n",
    "# Splitting features and target\n",
    "X = data[selected_features]\n",
    "y = data['popularity_class']"
   ]
  },
  {
   "cell_type": "code",
   "execution_count": 18,
   "id": "4704619f-9435-4e69-8d11-f05559de99ee",
   "metadata": {},
   "outputs": [],
   "source": [
    "from sklearn.model_selection import train_test_split\n",
    "from sklearn.preprocessing import StandardScaler\n",
    "from sklearn.metrics import classification_report, accuracy_score , confusion_matrix\n",
    "\n",
    "# Split the dataset into training and test sets\n",
    "X_train, X_test, y_train, y_test = train_test_split(X, y, test_size=0.2, random_state=42)\n",
    "\n",
    "# Scale the data\n",
    "scaler = StandardScaler()\n",
    "X_train = scaler.fit_transform(X_train)\n",
    "X_test = scaler.transform(X_test)\n"
   ]
  },
  {
   "cell_type": "code",
   "execution_count": 20,
   "id": "9b2ce5fe-71cd-47d7-949e-b81c131f7270",
   "metadata": {},
   "outputs": [
    {
     "name": "stdout",
     "output_type": "stream",
     "text": [
      "Requirement already satisfied: xgboost in c:\\users\\susha\\anaconda3\\lib\\site-packages (2.1.3)\n",
      "Requirement already satisfied: numpy in c:\\users\\susha\\anaconda3\\lib\\site-packages (from xgboost) (1.26.4)\n",
      "Requirement already satisfied: scipy in c:\\users\\susha\\anaconda3\\lib\\site-packages (from xgboost) (1.13.1)\n",
      "XGBoost Accuracy: 0.8442\n",
      "              precision    recall  f1-score   support\n",
      "\n",
      "           0       0.84      0.86      0.85     14177\n",
      "           1       0.85      0.83      0.84     13710\n",
      "\n",
      "    accuracy                           0.84     27887\n",
      "   macro avg       0.84      0.84      0.84     27887\n",
      "weighted avg       0.84      0.84      0.84     27887\n",
      "\n"
     ]
    }
   ],
   "source": [
    "\n",
    "import xgboost as xgb\n",
    "from sklearn.metrics import classification_report, accuracy_score , confusion_matrix\n",
    "\n",
    "# Initialize the XGBoost model\n",
    "xgb_classifier = xgb.XGBClassifier(random_state=42)\n",
    "\n",
    "# Fit the model\n",
    "xgb_classifier.fit(X_train, y_train)\n",
    "\n",
    "# Make predictions\n",
    "y_pred_xgb = xgb_classifier.predict(X_test)\n",
    "\n",
    "# Evaluate the model\n",
    "accuracy_xgb = accuracy_score(y_test, y_pred_xgb)\n",
    "print(f'XGBoost Accuracy: {accuracy_xgb:.4f}')\n",
    "print(classification_report(y_test, y_pred_xgb))"
   ]
  },
  {
   "cell_type": "code",
   "execution_count": 22,
   "id": "afa10e85-0991-49f1-84ec-a3ef8197075f",
   "metadata": {},
   "outputs": [
    {
     "data": {
      "image/png": "[encoded data removed]",
      "text/plain": [
       "<Figure size 600x400 with 2 Axes>"
      ]
     },
     "metadata": {},
     "output_type": "display_data"
    }
   ],
   "source": [
    "import matplotlib.pyplot as plt\n",
    "import seaborn as sns\n",
    "\n",
    "\n",
    "# Generate the confusion matrix\n",
    "cm = confusion_matrix(y_test, y_pred_xgb)\n",
    "\n",
    "# Visualize confusion matrix with heatmap\n",
    "plt.figure(figsize= (6, 4))\n",
    "sns.heatmap(cm, annot=True, fmt=\"d\", cmap=\"Blues\", xticklabels=[\"Low\", \"Neutral\", \"High\"], yticklabels=[\"Low\", \"Neutral\", \"High\"])\n",
    "plt.title('Confusion Matrix')\n",
    "plt.xlabel('Predicted')\n",
    "plt.ylabel('Actual')\n",
    "plt.show()"
   ]
  }
 ],
 "metadata": {
  "kernelspec": {
   "display_name": "Python 3 (ipykernel)",
   "language": "python",
   "name": "python3"
  },
  "language_info": {
   "codemirror_mode": {
    "name": "ipython",
    "version": 3
   },
   "file_extension": ".py",
   "mimetype": "text/x-python",
   "name": "python",
   "nbconvert_exporter": "python",
   "pygments_lexer": "ipython3",
   "version": "3.12.7"
  }
 },
 "nbformat": 4,
 "nbformat_minor": 5
}
